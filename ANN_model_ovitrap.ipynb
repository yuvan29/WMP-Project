{
  "nbformat": 4,
  "nbformat_minor": 0,
  "metadata": {
    "colab": {
      "provenance": []
    },
    "kernelspec": {
      "name": "python3",
      "display_name": "Python 3"
    },
    "language_info": {
      "name": "python"
    }
  },
  "cells": [
    {
      "cell_type": "code",
      "metadata": {
        "id": "ExT3bfehczzM"
      },
      "source": [
        "import matplotlib.pyplot as plt\n",
        "import numpy as np\n",
        "import pandas as pd\n",
        "import seaborn as sns\n",
        "\n",
        "import tensorflow as tf\n",
        "\n",
        "from tensorflow import keras\n",
        "from tensorflow.keras import layers\n",
        "from tensorflow.keras.layers.experimental import preprocessing\n",
        "from tensorflow.keras import regularizers\n",
        "\n",
        "#dense = tf.keras.layers.Dense(3, kernel_regularizer='l2')"
      ],
      "execution_count": null,
      "outputs": []
    },
    {
      "cell_type": "code",
      "metadata": {
        "colab": {
          "base_uri": "https://localhost:8080/"
        },
        "id": "k-BPeGABn2i-",
        "outputId": "fe8b4f71-4fc4-4249-b5fb-1caf332d5d02"
      },
      "source": [
        "from google.colab import drive\n",
        "drive.mount('/content/drive')"
      ],
      "execution_count": null,
      "outputs": [
        {
          "output_type": "stream",
          "name": "stdout",
          "text": [
            "Drive already mounted at /content/drive; to attempt to forcibly remount, call drive.mount(\"/content/drive\", force_remount=True).\n"
          ]
        }
      ]
    },
    {
      "cell_type": "code",
      "metadata": {
        "id": "VT8aAyxZc9o4"
      },
      "source": [
        "df_ovitrap = pd.read_csv('/content/drive/My Drive/Group 4/df_ovitrap_fullyimp_better.csv', index_col=False)"
      ],
      "execution_count": null,
      "outputs": []
    },
    {
      "cell_type": "code",
      "metadata": {
        "id": "bCH6Px7idPxy"
      },
      "source": [
        "df_ovitrap = df_ovitrap.drop(['trap_id','type','successful','total_aegypti_caught'], axis=1)"
      ],
      "execution_count": null,
      "outputs": []
    },
    {
      "cell_type": "code",
      "metadata": {
        "id": "LTxcPe6LPSgh"
      },
      "source": [
        "df_ovitrap = df_ovitrap.iloc[: , 1:]"
      ],
      "execution_count": null,
      "outputs": []
    },
    {
      "cell_type": "code",
      "metadata": {
        "colab": {
          "base_uri": "https://localhost:8080/",
          "height": 451
        },
        "id": "84aiF2KBNMOH",
        "outputId": "06672682-c0bd-42e5-9961-e6bb20945f46"
      },
      "source": [
        "df_ovitrap"
      ],
      "execution_count": null,
      "outputs": [
        {
          "output_type": "execute_result",
          "data": {
            "text/html": [
              "<div>\n",
              "<style scoped>\n",
              "    .dataframe tbody tr th:only-of-type {\n",
              "        vertical-align: middle;\n",
              "    }\n",
              "\n",
              "    .dataframe tbody tr th {\n",
              "        vertical-align: top;\n",
              "    }\n",
              "\n",
              "    .dataframe thead th {\n",
              "        text-align: right;\n",
              "    }\n",
              "</style>\n",
              "<table border=\"1\" class=\"dataframe\">\n",
              "  <thead>\n",
              "    <tr style=\"text-align: right;\">\n",
              "      <th></th>\n",
              "      <th>screening_total_aeg</th>\n",
              "      <th>screening_wmel_aeg</th>\n",
              "      <th>latitude</th>\n",
              "      <th>longitude</th>\n",
              "      <th>Comuna 1</th>\n",
              "      <th>Comuna 18</th>\n",
              "      <th>Comuna 20</th>\n",
              "      <th>November</th>\n",
              "      <th>December</th>\n",
              "      <th>January</th>\n",
              "      <th>February</th>\n",
              "      <th>March</th>\n",
              "      <th>April</th>\n",
              "      <th>July</th>\n",
              "    </tr>\n",
              "  </thead>\n",
              "  <tbody>\n",
              "    <tr>\n",
              "      <th>0</th>\n",
              "      <td>2.000000</td>\n",
              "      <td>2.000000</td>\n",
              "      <td>3.458807</td>\n",
              "      <td>-76.557513</td>\n",
              "      <td>1</td>\n",
              "      <td>0</td>\n",
              "      <td>0</td>\n",
              "      <td>1</td>\n",
              "      <td>0</td>\n",
              "      <td>0</td>\n",
              "      <td>0</td>\n",
              "      <td>0</td>\n",
              "      <td>0</td>\n",
              "      <td>0</td>\n",
              "    </tr>\n",
              "    <tr>\n",
              "      <th>1</th>\n",
              "      <td>7.000000</td>\n",
              "      <td>5.000000</td>\n",
              "      <td>3.454069</td>\n",
              "      <td>-76.562949</td>\n",
              "      <td>1</td>\n",
              "      <td>0</td>\n",
              "      <td>0</td>\n",
              "      <td>1</td>\n",
              "      <td>0</td>\n",
              "      <td>0</td>\n",
              "      <td>0</td>\n",
              "      <td>0</td>\n",
              "      <td>0</td>\n",
              "      <td>0</td>\n",
              "    </tr>\n",
              "    <tr>\n",
              "      <th>2</th>\n",
              "      <td>17.000000</td>\n",
              "      <td>6.000000</td>\n",
              "      <td>3.457746</td>\n",
              "      <td>-76.583165</td>\n",
              "      <td>1</td>\n",
              "      <td>0</td>\n",
              "      <td>0</td>\n",
              "      <td>1</td>\n",
              "      <td>0</td>\n",
              "      <td>0</td>\n",
              "      <td>0</td>\n",
              "      <td>0</td>\n",
              "      <td>0</td>\n",
              "      <td>0</td>\n",
              "    </tr>\n",
              "    <tr>\n",
              "      <th>3</th>\n",
              "      <td>2.000000</td>\n",
              "      <td>1.000000</td>\n",
              "      <td>3.455246</td>\n",
              "      <td>-76.578502</td>\n",
              "      <td>1</td>\n",
              "      <td>0</td>\n",
              "      <td>0</td>\n",
              "      <td>0</td>\n",
              "      <td>1</td>\n",
              "      <td>0</td>\n",
              "      <td>0</td>\n",
              "      <td>0</td>\n",
              "      <td>0</td>\n",
              "      <td>0</td>\n",
              "    </tr>\n",
              "    <tr>\n",
              "      <th>4</th>\n",
              "      <td>15.000000</td>\n",
              "      <td>4.000000</td>\n",
              "      <td>3.457746</td>\n",
              "      <td>-76.583165</td>\n",
              "      <td>1</td>\n",
              "      <td>0</td>\n",
              "      <td>0</td>\n",
              "      <td>0</td>\n",
              "      <td>1</td>\n",
              "      <td>0</td>\n",
              "      <td>0</td>\n",
              "      <td>0</td>\n",
              "      <td>0</td>\n",
              "      <td>0</td>\n",
              "    </tr>\n",
              "    <tr>\n",
              "      <th>...</th>\n",
              "      <td>...</td>\n",
              "      <td>...</td>\n",
              "      <td>...</td>\n",
              "      <td>...</td>\n",
              "      <td>...</td>\n",
              "      <td>...</td>\n",
              "      <td>...</td>\n",
              "      <td>...</td>\n",
              "      <td>...</td>\n",
              "      <td>...</td>\n",
              "      <td>...</td>\n",
              "      <td>...</td>\n",
              "      <td>...</td>\n",
              "      <td>...</td>\n",
              "    </tr>\n",
              "    <tr>\n",
              "      <th>829</th>\n",
              "      <td>4.756177</td>\n",
              "      <td>1.442028</td>\n",
              "      <td>3.390597</td>\n",
              "      <td>-76.553677</td>\n",
              "      <td>0</td>\n",
              "      <td>1</td>\n",
              "      <td>0</td>\n",
              "      <td>0</td>\n",
              "      <td>0</td>\n",
              "      <td>0</td>\n",
              "      <td>0</td>\n",
              "      <td>0</td>\n",
              "      <td>0</td>\n",
              "      <td>1</td>\n",
              "    </tr>\n",
              "    <tr>\n",
              "      <th>830</th>\n",
              "      <td>7.160899</td>\n",
              "      <td>1.699536</td>\n",
              "      <td>3.389345</td>\n",
              "      <td>-76.556232</td>\n",
              "      <td>0</td>\n",
              "      <td>1</td>\n",
              "      <td>0</td>\n",
              "      <td>0</td>\n",
              "      <td>0</td>\n",
              "      <td>0</td>\n",
              "      <td>0</td>\n",
              "      <td>0</td>\n",
              "      <td>0</td>\n",
              "      <td>1</td>\n",
              "    </tr>\n",
              "    <tr>\n",
              "      <th>831</th>\n",
              "      <td>2.109384</td>\n",
              "      <td>0.987592</td>\n",
              "      <td>3.391474</td>\n",
              "      <td>-76.558260</td>\n",
              "      <td>0</td>\n",
              "      <td>1</td>\n",
              "      <td>0</td>\n",
              "      <td>0</td>\n",
              "      <td>0</td>\n",
              "      <td>0</td>\n",
              "      <td>0</td>\n",
              "      <td>0</td>\n",
              "      <td>0</td>\n",
              "      <td>1</td>\n",
              "    </tr>\n",
              "    <tr>\n",
              "      <th>832</th>\n",
              "      <td>2.109384</td>\n",
              "      <td>0.987592</td>\n",
              "      <td>3.385349</td>\n",
              "      <td>-76.547214</td>\n",
              "      <td>0</td>\n",
              "      <td>1</td>\n",
              "      <td>0</td>\n",
              "      <td>0</td>\n",
              "      <td>0</td>\n",
              "      <td>0</td>\n",
              "      <td>0</td>\n",
              "      <td>0</td>\n",
              "      <td>0</td>\n",
              "      <td>1</td>\n",
              "    </tr>\n",
              "    <tr>\n",
              "      <th>833</th>\n",
              "      <td>2.109384</td>\n",
              "      <td>0.987592</td>\n",
              "      <td>3.381517</td>\n",
              "      <td>-76.548717</td>\n",
              "      <td>0</td>\n",
              "      <td>1</td>\n",
              "      <td>0</td>\n",
              "      <td>0</td>\n",
              "      <td>0</td>\n",
              "      <td>0</td>\n",
              "      <td>0</td>\n",
              "      <td>0</td>\n",
              "      <td>0</td>\n",
              "      <td>1</td>\n",
              "    </tr>\n",
              "  </tbody>\n",
              "</table>\n",
              "<p>834 rows × 14 columns</p>\n",
              "</div>"
            ],
            "text/plain": [
              "     screening_total_aeg  screening_wmel_aeg  latitude  ...  March  April  July\n",
              "0               2.000000            2.000000  3.458807  ...      0      0     0\n",
              "1               7.000000            5.000000  3.454069  ...      0      0     0\n",
              "2              17.000000            6.000000  3.457746  ...      0      0     0\n",
              "3               2.000000            1.000000  3.455246  ...      0      0     0\n",
              "4              15.000000            4.000000  3.457746  ...      0      0     0\n",
              "..                   ...                 ...       ...  ...    ...    ...   ...\n",
              "829             4.756177            1.442028  3.390597  ...      0      0     1\n",
              "830             7.160899            1.699536  3.389345  ...      0      0     1\n",
              "831             2.109384            0.987592  3.391474  ...      0      0     1\n",
              "832             2.109384            0.987592  3.385349  ...      0      0     1\n",
              "833             2.109384            0.987592  3.381517  ...      0      0     1\n",
              "\n",
              "[834 rows x 14 columns]"
            ]
          },
          "metadata": {},
          "execution_count": 8
        }
      ]
    },
    {
      "cell_type": "code",
      "metadata": {
        "id": "LRmcMgFydSgM"
      },
      "source": [
        "#convert collected_at to month only\n",
        "# df_ovitrap['collected_at'] = pd.to_datetime(df_ovitrap.collected_at)\n",
        "# df_ovitrap['col_month'] = df_ovitrap['collected_at'].dt.strftime('%B')"
      ],
      "execution_count": null,
      "outputs": []
    },
    {
      "cell_type": "code",
      "metadata": {
        "id": "Kjh_LmrTeIIx"
      },
      "source": [
        "# df_ovitrap"
      ],
      "execution_count": null,
      "outputs": []
    },
    {
      "cell_type": "code",
      "metadata": {
        "id": "6NVKO2uReWCF"
      },
      "source": [
        "# #put comunas into cats\n",
        "\n",
        "# categories = df_ovitrap['reporting_area'].unique()\n",
        "# # create a vector with the category names,\n",
        "# lencat = len(categories) # store the length of the categories vector to use later\n",
        "# # one hot encoding, create three new columns which are true for that particular species, and false if not\n",
        "# for a in categories: # loop over all the labels in categories\n",
        "#     # + concatenates two strings\n",
        "#       df_ovitrap[a] = pd.Series(df_ovitrap['reporting_area']==a).astype(int)"
      ],
      "execution_count": null,
      "outputs": []
    },
    {
      "cell_type": "code",
      "metadata": {
        "id": "hnbdMtF7ekpq"
      },
      "source": [
        "# #and months\n",
        "\n",
        "# categories = df_ovitrap['col_month'].unique()\n",
        "# # create a vector with the category names,\n",
        "# lencat = len(categories) # store the length of the categories vector to use later\n",
        "# # one hot encoding, create three new columns which are true for that particular species, and false if not\n",
        "# for a in categories: # loop over all the labels in categories\n",
        "#     # + concatenates two strings\n",
        "#       df_ovitrap[a] = pd.Series(df_ovitrap['col_month']==a).astype(int)"
      ],
      "execution_count": null,
      "outputs": []
    },
    {
      "cell_type": "code",
      "metadata": {
        "id": "TSdCMkJ1e7Jh"
      },
      "source": [
        "# df_ovitrap"
      ],
      "execution_count": null,
      "outputs": []
    },
    {
      "cell_type": "code",
      "metadata": {
        "id": "wBy1aNEGG4Vq"
      },
      "source": [
        "# df_ovitrap = df_ovitrap.drop(['reporting_area','col_month', 'collected_at'],axis=1)"
      ],
      "execution_count": null,
      "outputs": []
    },
    {
      "cell_type": "code",
      "metadata": {
        "id": "7CoQaCwzHgS1"
      },
      "source": [
        "# df_ovitrap"
      ],
      "execution_count": null,
      "outputs": []
    },
    {
      "cell_type": "code",
      "metadata": {
        "id": "_-JN3eojHtQk"
      },
      "source": [
        "df_ovitrap['infect_rate']=df_ovitrap['screening_wmel_aeg']/df_ovitrap['screening_total_aeg']"
      ],
      "execution_count": null,
      "outputs": []
    },
    {
      "cell_type": "code",
      "metadata": {
        "colab": {
          "base_uri": "https://localhost:8080/",
          "height": 451
        },
        "id": "QLkcmZV_IN5N",
        "outputId": "7adb43be-9f9f-4341-e108-45a69bc074b7"
      },
      "source": [
        "df_ovitrap"
      ],
      "execution_count": null,
      "outputs": [
        {
          "output_type": "execute_result",
          "data": {
            "text/html": [
              "<div>\n",
              "<style scoped>\n",
              "    .dataframe tbody tr th:only-of-type {\n",
              "        vertical-align: middle;\n",
              "    }\n",
              "\n",
              "    .dataframe tbody tr th {\n",
              "        vertical-align: top;\n",
              "    }\n",
              "\n",
              "    .dataframe thead th {\n",
              "        text-align: right;\n",
              "    }\n",
              "</style>\n",
              "<table border=\"1\" class=\"dataframe\">\n",
              "  <thead>\n",
              "    <tr style=\"text-align: right;\">\n",
              "      <th></th>\n",
              "      <th>screening_total_aeg</th>\n",
              "      <th>screening_wmel_aeg</th>\n",
              "      <th>latitude</th>\n",
              "      <th>longitude</th>\n",
              "      <th>Comuna 1</th>\n",
              "      <th>Comuna 18</th>\n",
              "      <th>Comuna 20</th>\n",
              "      <th>November</th>\n",
              "      <th>December</th>\n",
              "      <th>January</th>\n",
              "      <th>February</th>\n",
              "      <th>March</th>\n",
              "      <th>April</th>\n",
              "      <th>July</th>\n",
              "      <th>infect_rate</th>\n",
              "    </tr>\n",
              "  </thead>\n",
              "  <tbody>\n",
              "    <tr>\n",
              "      <th>0</th>\n",
              "      <td>2.000000</td>\n",
              "      <td>2.000000</td>\n",
              "      <td>3.458807</td>\n",
              "      <td>-76.557513</td>\n",
              "      <td>1</td>\n",
              "      <td>0</td>\n",
              "      <td>0</td>\n",
              "      <td>1</td>\n",
              "      <td>0</td>\n",
              "      <td>0</td>\n",
              "      <td>0</td>\n",
              "      <td>0</td>\n",
              "      <td>0</td>\n",
              "      <td>0</td>\n",
              "      <td>1.000000</td>\n",
              "    </tr>\n",
              "    <tr>\n",
              "      <th>1</th>\n",
              "      <td>7.000000</td>\n",
              "      <td>5.000000</td>\n",
              "      <td>3.454069</td>\n",
              "      <td>-76.562949</td>\n",
              "      <td>1</td>\n",
              "      <td>0</td>\n",
              "      <td>0</td>\n",
              "      <td>1</td>\n",
              "      <td>0</td>\n",
              "      <td>0</td>\n",
              "      <td>0</td>\n",
              "      <td>0</td>\n",
              "      <td>0</td>\n",
              "      <td>0</td>\n",
              "      <td>0.714286</td>\n",
              "    </tr>\n",
              "    <tr>\n",
              "      <th>2</th>\n",
              "      <td>17.000000</td>\n",
              "      <td>6.000000</td>\n",
              "      <td>3.457746</td>\n",
              "      <td>-76.583165</td>\n",
              "      <td>1</td>\n",
              "      <td>0</td>\n",
              "      <td>0</td>\n",
              "      <td>1</td>\n",
              "      <td>0</td>\n",
              "      <td>0</td>\n",
              "      <td>0</td>\n",
              "      <td>0</td>\n",
              "      <td>0</td>\n",
              "      <td>0</td>\n",
              "      <td>0.352941</td>\n",
              "    </tr>\n",
              "    <tr>\n",
              "      <th>3</th>\n",
              "      <td>2.000000</td>\n",
              "      <td>1.000000</td>\n",
              "      <td>3.455246</td>\n",
              "      <td>-76.578502</td>\n",
              "      <td>1</td>\n",
              "      <td>0</td>\n",
              "      <td>0</td>\n",
              "      <td>0</td>\n",
              "      <td>1</td>\n",
              "      <td>0</td>\n",
              "      <td>0</td>\n",
              "      <td>0</td>\n",
              "      <td>0</td>\n",
              "      <td>0</td>\n",
              "      <td>0.500000</td>\n",
              "    </tr>\n",
              "    <tr>\n",
              "      <th>4</th>\n",
              "      <td>15.000000</td>\n",
              "      <td>4.000000</td>\n",
              "      <td>3.457746</td>\n",
              "      <td>-76.583165</td>\n",
              "      <td>1</td>\n",
              "      <td>0</td>\n",
              "      <td>0</td>\n",
              "      <td>0</td>\n",
              "      <td>1</td>\n",
              "      <td>0</td>\n",
              "      <td>0</td>\n",
              "      <td>0</td>\n",
              "      <td>0</td>\n",
              "      <td>0</td>\n",
              "      <td>0.266667</td>\n",
              "    </tr>\n",
              "    <tr>\n",
              "      <th>...</th>\n",
              "      <td>...</td>\n",
              "      <td>...</td>\n",
              "      <td>...</td>\n",
              "      <td>...</td>\n",
              "      <td>...</td>\n",
              "      <td>...</td>\n",
              "      <td>...</td>\n",
              "      <td>...</td>\n",
              "      <td>...</td>\n",
              "      <td>...</td>\n",
              "      <td>...</td>\n",
              "      <td>...</td>\n",
              "      <td>...</td>\n",
              "      <td>...</td>\n",
              "      <td>...</td>\n",
              "    </tr>\n",
              "    <tr>\n",
              "      <th>829</th>\n",
              "      <td>4.756177</td>\n",
              "      <td>1.442028</td>\n",
              "      <td>3.390597</td>\n",
              "      <td>-76.553677</td>\n",
              "      <td>0</td>\n",
              "      <td>1</td>\n",
              "      <td>0</td>\n",
              "      <td>0</td>\n",
              "      <td>0</td>\n",
              "      <td>0</td>\n",
              "      <td>0</td>\n",
              "      <td>0</td>\n",
              "      <td>0</td>\n",
              "      <td>1</td>\n",
              "      <td>0.303191</td>\n",
              "    </tr>\n",
              "    <tr>\n",
              "      <th>830</th>\n",
              "      <td>7.160899</td>\n",
              "      <td>1.699536</td>\n",
              "      <td>3.389345</td>\n",
              "      <td>-76.556232</td>\n",
              "      <td>0</td>\n",
              "      <td>1</td>\n",
              "      <td>0</td>\n",
              "      <td>0</td>\n",
              "      <td>0</td>\n",
              "      <td>0</td>\n",
              "      <td>0</td>\n",
              "      <td>0</td>\n",
              "      <td>0</td>\n",
              "      <td>1</td>\n",
              "      <td>0.237335</td>\n",
              "    </tr>\n",
              "    <tr>\n",
              "      <th>831</th>\n",
              "      <td>2.109384</td>\n",
              "      <td>0.987592</td>\n",
              "      <td>3.391474</td>\n",
              "      <td>-76.558260</td>\n",
              "      <td>0</td>\n",
              "      <td>1</td>\n",
              "      <td>0</td>\n",
              "      <td>0</td>\n",
              "      <td>0</td>\n",
              "      <td>0</td>\n",
              "      <td>0</td>\n",
              "      <td>0</td>\n",
              "      <td>0</td>\n",
              "      <td>1</td>\n",
              "      <td>0.468190</td>\n",
              "    </tr>\n",
              "    <tr>\n",
              "      <th>832</th>\n",
              "      <td>2.109384</td>\n",
              "      <td>0.987592</td>\n",
              "      <td>3.385349</td>\n",
              "      <td>-76.547214</td>\n",
              "      <td>0</td>\n",
              "      <td>1</td>\n",
              "      <td>0</td>\n",
              "      <td>0</td>\n",
              "      <td>0</td>\n",
              "      <td>0</td>\n",
              "      <td>0</td>\n",
              "      <td>0</td>\n",
              "      <td>0</td>\n",
              "      <td>1</td>\n",
              "      <td>0.468190</td>\n",
              "    </tr>\n",
              "    <tr>\n",
              "      <th>833</th>\n",
              "      <td>2.109384</td>\n",
              "      <td>0.987592</td>\n",
              "      <td>3.381517</td>\n",
              "      <td>-76.548717</td>\n",
              "      <td>0</td>\n",
              "      <td>1</td>\n",
              "      <td>0</td>\n",
              "      <td>0</td>\n",
              "      <td>0</td>\n",
              "      <td>0</td>\n",
              "      <td>0</td>\n",
              "      <td>0</td>\n",
              "      <td>0</td>\n",
              "      <td>1</td>\n",
              "      <td>0.468190</td>\n",
              "    </tr>\n",
              "  </tbody>\n",
              "</table>\n",
              "<p>834 rows × 15 columns</p>\n",
              "</div>"
            ],
            "text/plain": [
              "     screening_total_aeg  screening_wmel_aeg  ...  July  infect_rate\n",
              "0               2.000000            2.000000  ...     0     1.000000\n",
              "1               7.000000            5.000000  ...     0     0.714286\n",
              "2              17.000000            6.000000  ...     0     0.352941\n",
              "3               2.000000            1.000000  ...     0     0.500000\n",
              "4              15.000000            4.000000  ...     0     0.266667\n",
              "..                   ...                 ...  ...   ...          ...\n",
              "829             4.756177            1.442028  ...     1     0.303191\n",
              "830             7.160899            1.699536  ...     1     0.237335\n",
              "831             2.109384            0.987592  ...     1     0.468190\n",
              "832             2.109384            0.987592  ...     1     0.468190\n",
              "833             2.109384            0.987592  ...     1     0.468190\n",
              "\n",
              "[834 rows x 15 columns]"
            ]
          },
          "metadata": {},
          "execution_count": 17
        }
      ]
    },
    {
      "cell_type": "code",
      "metadata": {
        "id": "mDKKp5qlIQI3"
      },
      "source": [
        "df_ovitrap=df_ovitrap.drop(['screening_total_aeg','screening_wmel_aeg'],axis=1)"
      ],
      "execution_count": null,
      "outputs": []
    },
    {
      "cell_type": "code",
      "metadata": {
        "colab": {
          "base_uri": "https://localhost:8080/",
          "height": 414
        },
        "id": "CN3JOsyXIaW3",
        "outputId": "cbc5b7a0-657c-4026-fbd1-59e1d06cc382"
      },
      "source": [
        "df_ovitrap"
      ],
      "execution_count": null,
      "outputs": [
        {
          "output_type": "execute_result",
          "data": {
            "text/html": [
              "<div>\n",
              "<style scoped>\n",
              "    .dataframe tbody tr th:only-of-type {\n",
              "        vertical-align: middle;\n",
              "    }\n",
              "\n",
              "    .dataframe tbody tr th {\n",
              "        vertical-align: top;\n",
              "    }\n",
              "\n",
              "    .dataframe thead th {\n",
              "        text-align: right;\n",
              "    }\n",
              "</style>\n",
              "<table border=\"1\" class=\"dataframe\">\n",
              "  <thead>\n",
              "    <tr style=\"text-align: right;\">\n",
              "      <th></th>\n",
              "      <th>latitude</th>\n",
              "      <th>longitude</th>\n",
              "      <th>Comuna 1</th>\n",
              "      <th>Comuna 18</th>\n",
              "      <th>Comuna 20</th>\n",
              "      <th>November</th>\n",
              "      <th>December</th>\n",
              "      <th>January</th>\n",
              "      <th>February</th>\n",
              "      <th>March</th>\n",
              "      <th>April</th>\n",
              "      <th>July</th>\n",
              "      <th>infect_rate</th>\n",
              "    </tr>\n",
              "  </thead>\n",
              "  <tbody>\n",
              "    <tr>\n",
              "      <th>0</th>\n",
              "      <td>3.458807</td>\n",
              "      <td>-76.557513</td>\n",
              "      <td>1</td>\n",
              "      <td>0</td>\n",
              "      <td>0</td>\n",
              "      <td>1</td>\n",
              "      <td>0</td>\n",
              "      <td>0</td>\n",
              "      <td>0</td>\n",
              "      <td>0</td>\n",
              "      <td>0</td>\n",
              "      <td>0</td>\n",
              "      <td>1.000000</td>\n",
              "    </tr>\n",
              "    <tr>\n",
              "      <th>1</th>\n",
              "      <td>3.454069</td>\n",
              "      <td>-76.562949</td>\n",
              "      <td>1</td>\n",
              "      <td>0</td>\n",
              "      <td>0</td>\n",
              "      <td>1</td>\n",
              "      <td>0</td>\n",
              "      <td>0</td>\n",
              "      <td>0</td>\n",
              "      <td>0</td>\n",
              "      <td>0</td>\n",
              "      <td>0</td>\n",
              "      <td>0.714286</td>\n",
              "    </tr>\n",
              "    <tr>\n",
              "      <th>2</th>\n",
              "      <td>3.457746</td>\n",
              "      <td>-76.583165</td>\n",
              "      <td>1</td>\n",
              "      <td>0</td>\n",
              "      <td>0</td>\n",
              "      <td>1</td>\n",
              "      <td>0</td>\n",
              "      <td>0</td>\n",
              "      <td>0</td>\n",
              "      <td>0</td>\n",
              "      <td>0</td>\n",
              "      <td>0</td>\n",
              "      <td>0.352941</td>\n",
              "    </tr>\n",
              "    <tr>\n",
              "      <th>3</th>\n",
              "      <td>3.455246</td>\n",
              "      <td>-76.578502</td>\n",
              "      <td>1</td>\n",
              "      <td>0</td>\n",
              "      <td>0</td>\n",
              "      <td>0</td>\n",
              "      <td>1</td>\n",
              "      <td>0</td>\n",
              "      <td>0</td>\n",
              "      <td>0</td>\n",
              "      <td>0</td>\n",
              "      <td>0</td>\n",
              "      <td>0.500000</td>\n",
              "    </tr>\n",
              "    <tr>\n",
              "      <th>4</th>\n",
              "      <td>3.457746</td>\n",
              "      <td>-76.583165</td>\n",
              "      <td>1</td>\n",
              "      <td>0</td>\n",
              "      <td>0</td>\n",
              "      <td>0</td>\n",
              "      <td>1</td>\n",
              "      <td>0</td>\n",
              "      <td>0</td>\n",
              "      <td>0</td>\n",
              "      <td>0</td>\n",
              "      <td>0</td>\n",
              "      <td>0.266667</td>\n",
              "    </tr>\n",
              "    <tr>\n",
              "      <th>...</th>\n",
              "      <td>...</td>\n",
              "      <td>...</td>\n",
              "      <td>...</td>\n",
              "      <td>...</td>\n",
              "      <td>...</td>\n",
              "      <td>...</td>\n",
              "      <td>...</td>\n",
              "      <td>...</td>\n",
              "      <td>...</td>\n",
              "      <td>...</td>\n",
              "      <td>...</td>\n",
              "      <td>...</td>\n",
              "      <td>...</td>\n",
              "    </tr>\n",
              "    <tr>\n",
              "      <th>829</th>\n",
              "      <td>3.390597</td>\n",
              "      <td>-76.553677</td>\n",
              "      <td>0</td>\n",
              "      <td>1</td>\n",
              "      <td>0</td>\n",
              "      <td>0</td>\n",
              "      <td>0</td>\n",
              "      <td>0</td>\n",
              "      <td>0</td>\n",
              "      <td>0</td>\n",
              "      <td>0</td>\n",
              "      <td>1</td>\n",
              "      <td>0.303191</td>\n",
              "    </tr>\n",
              "    <tr>\n",
              "      <th>830</th>\n",
              "      <td>3.389345</td>\n",
              "      <td>-76.556232</td>\n",
              "      <td>0</td>\n",
              "      <td>1</td>\n",
              "      <td>0</td>\n",
              "      <td>0</td>\n",
              "      <td>0</td>\n",
              "      <td>0</td>\n",
              "      <td>0</td>\n",
              "      <td>0</td>\n",
              "      <td>0</td>\n",
              "      <td>1</td>\n",
              "      <td>0.237335</td>\n",
              "    </tr>\n",
              "    <tr>\n",
              "      <th>831</th>\n",
              "      <td>3.391474</td>\n",
              "      <td>-76.558260</td>\n",
              "      <td>0</td>\n",
              "      <td>1</td>\n",
              "      <td>0</td>\n",
              "      <td>0</td>\n",
              "      <td>0</td>\n",
              "      <td>0</td>\n",
              "      <td>0</td>\n",
              "      <td>0</td>\n",
              "      <td>0</td>\n",
              "      <td>1</td>\n",
              "      <td>0.468190</td>\n",
              "    </tr>\n",
              "    <tr>\n",
              "      <th>832</th>\n",
              "      <td>3.385349</td>\n",
              "      <td>-76.547214</td>\n",
              "      <td>0</td>\n",
              "      <td>1</td>\n",
              "      <td>0</td>\n",
              "      <td>0</td>\n",
              "      <td>0</td>\n",
              "      <td>0</td>\n",
              "      <td>0</td>\n",
              "      <td>0</td>\n",
              "      <td>0</td>\n",
              "      <td>1</td>\n",
              "      <td>0.468190</td>\n",
              "    </tr>\n",
              "    <tr>\n",
              "      <th>833</th>\n",
              "      <td>3.381517</td>\n",
              "      <td>-76.548717</td>\n",
              "      <td>0</td>\n",
              "      <td>1</td>\n",
              "      <td>0</td>\n",
              "      <td>0</td>\n",
              "      <td>0</td>\n",
              "      <td>0</td>\n",
              "      <td>0</td>\n",
              "      <td>0</td>\n",
              "      <td>0</td>\n",
              "      <td>1</td>\n",
              "      <td>0.468190</td>\n",
              "    </tr>\n",
              "  </tbody>\n",
              "</table>\n",
              "<p>834 rows × 13 columns</p>\n",
              "</div>"
            ],
            "text/plain": [
              "     latitude  longitude  Comuna 1  Comuna 18  ...  March  April  July  infect_rate\n",
              "0    3.458807 -76.557513         1          0  ...      0      0     0     1.000000\n",
              "1    3.454069 -76.562949         1          0  ...      0      0     0     0.714286\n",
              "2    3.457746 -76.583165         1          0  ...      0      0     0     0.352941\n",
              "3    3.455246 -76.578502         1          0  ...      0      0     0     0.500000\n",
              "4    3.457746 -76.583165         1          0  ...      0      0     0     0.266667\n",
              "..        ...        ...       ...        ...  ...    ...    ...   ...          ...\n",
              "829  3.390597 -76.553677         0          1  ...      0      0     1     0.303191\n",
              "830  3.389345 -76.556232         0          1  ...      0      0     1     0.237335\n",
              "831  3.391474 -76.558260         0          1  ...      0      0     1     0.468190\n",
              "832  3.385349 -76.547214         0          1  ...      0      0     1     0.468190\n",
              "833  3.381517 -76.548717         0          1  ...      0      0     1     0.468190\n",
              "\n",
              "[834 rows x 13 columns]"
            ]
          },
          "metadata": {},
          "execution_count": 19
        }
      ]
    },
    {
      "cell_type": "code",
      "metadata": {
        "id": "BGEk_49mIb22"
      },
      "source": [
        "from sklearn.model_selection import train_test_split\n",
        "\n",
        "features = df_ovitrap.drop(['infect_rate'], axis=1)\n",
        "labels = df_ovitrap['infect_rate']\n",
        "\n",
        "X_train, X_test, y_train, y_test = train_test_split(features, labels,\n",
        "                                                    test_size=0.2,\n",
        "                                                    random_state=0)"
      ],
      "execution_count": null,
      "outputs": []
    },
    {
      "cell_type": "code",
      "metadata": {
        "id": "aH9OG1X1Iv9D"
      },
      "source": [
        "normalizer = preprocessing.Normalization(axis=-1)\n",
        "normalizer.adapt(np.array(X_train))"
      ],
      "execution_count": null,
      "outputs": []
    },
    {
      "cell_type": "code",
      "metadata": {
        "id": "TMjMw5gxI1xh"
      },
      "source": [
        "def build_model_regress(norm, n_hidden=1, n_neurons=30,\n",
        "                            learning_rate=0.01):\n",
        "  \"\"\"Build and compile a simple sequential model with n_hidden\n",
        "  layers and n_neurons in each layer.\"\"\"\n",
        "\n",
        "  model = keras.models.Sequential()\n",
        "  model.add(norm)\n",
        "  for layer in range(n_hidden):\n",
        "    model.add(keras.layers.Dense(n_neurons, activation=\"relu\",kernel_regularizer='l2'))\n",
        "  model.add(keras.layers.Dense(1))\n",
        "\n",
        "  optimizer = keras.optimizers.SGD(learning_rate=learning_rate)\n",
        "  model.compile(optimizer=optimizer, loss=[\"mean_absolute_error\"])\n",
        "\n",
        "  return model"
      ],
      "execution_count": null,
      "outputs": []
    },
    {
      "cell_type": "code",
      "metadata": {
        "id": "IKyY2ZxXJCcL",
        "colab": {
          "base_uri": "https://localhost:8080/"
        },
        "outputId": "50b389af-6078-4b2d-e2e9-79c2394de922"
      },
      "source": [
        "nn_model = build_model_regress(normalizer, n_hidden=10, n_neurons=144,\n",
        "                          learning_rate=0.01)\n",
        "nn_model.summary()"
      ],
      "execution_count": null,
      "outputs": [
        {
          "output_type": "stream",
          "name": "stdout",
          "text": [
            "Model: \"sequential\"\n",
            "_________________________________________________________________\n",
            "Layer (type)                 Output Shape              Param #   \n",
            "=================================================================\n",
            "normalization (Normalization (None, 12)                25        \n",
            "_________________________________________________________________\n",
            "dense (Dense)                (None, 144)               1872      \n",
            "_________________________________________________________________\n",
            "dense_1 (Dense)              (None, 144)               20880     \n",
            "_________________________________________________________________\n",
            "dense_2 (Dense)              (None, 144)               20880     \n",
            "_________________________________________________________________\n",
            "dense_3 (Dense)              (None, 144)               20880     \n",
            "_________________________________________________________________\n",
            "dense_4 (Dense)              (None, 144)               20880     \n",
            "_________________________________________________________________\n",
            "dense_5 (Dense)              (None, 144)               20880     \n",
            "_________________________________________________________________\n",
            "dense_6 (Dense)              (None, 144)               20880     \n",
            "_________________________________________________________________\n",
            "dense_7 (Dense)              (None, 144)               20880     \n",
            "_________________________________________________________________\n",
            "dense_8 (Dense)              (None, 144)               20880     \n",
            "_________________________________________________________________\n",
            "dense_9 (Dense)              (None, 144)               20880     \n",
            "_________________________________________________________________\n",
            "dense_10 (Dense)             (None, 1)                 145       \n",
            "=================================================================\n",
            "Total params: 189,962\n",
            "Trainable params: 189,937\n",
            "Non-trainable params: 25\n",
            "_________________________________________________________________\n"
          ]
        }
      ]
    },
    {
      "cell_type": "code",
      "metadata": {
        "colab": {
          "base_uri": "https://localhost:8080/"
        },
        "id": "n2oDmdOvI4Su",
        "outputId": "d4c3f631-6db7-4835-f83f-13ca183bb72a"
      },
      "source": [
        "%%time\n",
        "from tensorflow.keras.callbacks import EarlyStopping\n",
        "from keras.callbacks import ReduceLROnPlateau\n",
        "\n",
        "early_stopping_cb = EarlyStopping(patience=10,\n",
        "                                  restore_best_weights=True)\n",
        "reducelr_cb = ReduceLROnPlateau(monitor='val_loss', factor=0.1, patience=10)\n",
        "history = nn_model.fit(\n",
        "    X_train, y_train,\n",
        "    validation_split=0.2,\n",
        "    verbose=0, epochs=500,\n",
        "    callbacks=[reducelr_cb])"
      ],
      "execution_count": null,
      "outputs": [
        {
          "output_type": "stream",
          "name": "stdout",
          "text": [
            "CPU times: user 45.6 s, sys: 1.82 s, total: 47.4 s\n",
            "Wall time: 35.4 s\n"
          ]
        }
      ]
    },
    {
      "cell_type": "code",
      "metadata": {
        "colab": {
          "base_uri": "https://localhost:8080/"
        },
        "id": "-7s7F51BI7RU",
        "outputId": "d287da3c-d0e4-4ada-a4cc-1ec4ff65ff2f"
      },
      "source": [
        "nn_model.evaluate(X_test, y_test, verbose=0)"
      ],
      "execution_count": null,
      "outputs": [
        {
          "output_type": "execute_result",
          "data": {
            "text/plain": [
              "0.9059534072875977"
            ]
          },
          "metadata": {},
          "execution_count": 25
        }
      ]
    },
    {
      "cell_type": "code",
      "metadata": {
        "id": "FgjV5g5mJGiA",
        "colab": {
          "base_uri": "https://localhost:8080/",
          "height": 516
        },
        "outputId": "7a22e3ff-3711-4bd9-9059-eb4623a274d5"
      },
      "source": [
        "# !pip install eli5\n",
        "# from eli5.sklearn import PermutationImportance\n",
        "\n",
        "# perm = PermutationImportance(history).fit(X_test, y_test)\n",
        "# eli5.show_weights(perm)\n",
        "\n",
        "\n",
        "# import numpy as np\n",
        "# from eli5.permutation_importance import get_score_importances\n",
        "\n",
        "# # ... load data, define score function\n",
        "# def score(X, y):\n",
        "#     return nn_model.evaluate(X, y, verbose=0)\n",
        "\n",
        "# base_score, score_decreases = get_score_importances(score, X_test, y_test)\n",
        "# feature_importances = np.mean(score_decreases, axis=0)\n",
        "\n",
        "\n",
        "from sklearn.inspection import permutation_importance\n",
        "from matplotlib import pyplot\n",
        "results = permutation_importance(nn_model, X_test, y_test, scoring='r2')\n",
        "# get importance\n",
        "importance = results.importances_mean\n",
        "# summarize feature importance\n",
        "for i,v in enumerate(importance):\n",
        "  # col = df_ovitrap.columns[i]\n",
        "  # pr = 'Feature: '+ col +', Score: %.5f'\n",
        "\tprint('Feature: %0d, Score: %.5f' % (i,v))\n"
      ],
      "execution_count": null,
      "outputs": [
        {
          "output_type": "stream",
          "name": "stdout",
          "text": [
            "Feature: 0, Score: 0.02628\n",
            "Feature: 1, Score: 0.04524\n",
            "Feature: 2, Score: 0.03619\n",
            "Feature: 3, Score: -0.00552\n",
            "Feature: 4, Score: 0.03967\n",
            "Feature: 5, Score: -0.00336\n",
            "Feature: 6, Score: 0.05535\n",
            "Feature: 7, Score: 0.03096\n",
            "Feature: 8, Score: 0.01212\n",
            "Feature: 9, Score: 0.03536\n",
            "Feature: 10, Score: -0.00627\n",
            "Feature: 11, Score: 0.00312\n"
          ]
        },
        {
          "output_type": "display_data",
          "data": {
            "image/png": "[encoded data removed]",
            "text/plain": [
              "<Figure size 432x288 with 1 Axes>"
            ]
          },
          "metadata": {
            "needs_background": "light"
          }
        }
      ]
    },
    {
      "cell_type": "code",
      "metadata": {
        "colab": {
          "base_uri": "https://localhost:8080/",
          "height": 318
        },
        "id": "zaoLYcnfx9x4",
        "outputId": "b3158cb5-6e01-4d7e-aa08-97d9265469d5"
      },
      "source": [
        "# plot feature importance\n",
        "fig, ax = pyplot.subplots()\n",
        "pyplot.bar([lab for lab in df_ovitrap.columns[0:12]], importance, color='#7eb54e')\n",
        "ax.set_xticklabels([lab for lab in df_ovitrap.columns[0:12]])\n",
        "pyplot.xticks(rotation=45)\n",
        "ax.set_ylabel('Feature importance')\n",
        "ax.set_title('Relative feature importance of Neural Network Regression model')\n",
        "pyplot.show()"
      ],
      "execution_count": null,
      "outputs": [
        {
          "output_type": "display_data",
          "data": {
            "image/png": "[encoded data removed]",
            "text/plain": [
              "<Figure size 432x288 with 1 Axes>"
            ]
          },
          "metadata": {
            "needs_background": "light"
          }
        }
      ]
    },
    {
      "cell_type": "code",
      "metadata": {
        "colab": {
          "base_uri": "https://localhost:8080/"
        },
        "id": "eMq-WqJAn_Xe",
        "outputId": "2e59a16e-374d-4f08-dc68-90523315f690"
      },
      "source": [
        "# df_ovitrap.columns[0:13]\n",
        "importance"
      ],
      "execution_count": null,
      "outputs": [
        {
          "output_type": "execute_result",
          "data": {
            "text/plain": [
              "array([ 0.02624175,  0.02181067, -0.00639582, -0.00584182,  0.02488376,\n",
              "       -0.00381559,  0.04921368,  0.03875016,  0.02024269,  0.03500908,\n",
              "       -0.01455404,  0.0262841 ])"
            ]
          },
          "metadata": {},
          "execution_count": 54
        }
      ]
    }
  ]
}